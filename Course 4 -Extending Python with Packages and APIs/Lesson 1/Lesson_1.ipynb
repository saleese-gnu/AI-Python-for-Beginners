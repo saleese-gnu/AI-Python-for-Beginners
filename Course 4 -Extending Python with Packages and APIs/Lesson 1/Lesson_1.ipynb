{
 "cells": [
  {
   "cell_type": "markdown",
   "metadata": {
    "id": "WMGxBP-yQoCl"
   },
   "source": [
    "# Lesson 1: Using functions from a local file"
   ]
  },
  {
   "cell_type": "markdown",
   "metadata": {},
   "source": [
    "Hit the play button on the video next to this Jupyter notebook to start the video and follow along as Andrew explains how to work through this lesson!\n",
    "\n",
    "In all of the courses so far, you have used a set of helper functions that were made available to you in the learning environment.\n",
    "\n",
    "In this lesson, you will see how these functions are stored in Python files and loaded into the notebook for you to use with the `import` command."
   ]
  },
  {
   "cell_type": "markdown",
   "metadata": {},
   "source": [
    "## Revisiting the temperature conversion example"
   ]
  },
  {
   "cell_type": "markdown",
   "metadata": {},
   "source": [
    "Here is the function you saw in the last course for converting temperatures from Fahrenheit to Celsius. Run the next cell to define the function:"
   ]
  },
  {
   "cell_type": "code",
   "execution_count": null,
   "metadata": {
    "height": 64
   },
   "outputs": [],
   "source": [
    "def fahrenheit_to_celsius(fahrenheit):\n",
    "    celsius = (fahrenheit - 32) * 5 / 9\n",
    "    print(f\"{fahrenheit}°F is equivalent to {celsius:.2f}°C\")"
   ]
  },
  {
   "cell_type": "markdown",
   "metadata": {},
   "source": [
    "And run the next cell to use the function!"
   ]
  },
  {
   "cell_type": "code",
   "execution_count": null,
   "metadata": {
    "height": 30
   },
   "outputs": [],
   "source": [
    "fahrenheit_to_celsius(68)"
   ]
  },
  {
   "cell_type": "markdown",
   "metadata": {},
   "source": [
    "In the cells above, you directly defined the function and then used it. \n",
    "\n",
    "Throughout the previous courses, you used functions that you imported from `helper_functions`.\n",
    "\n",
    "It turns out these were stored in a local file in the same directory as the notebook called `helper_functions.py`.\n",
    "\n",
    "A related function to the `fahrenheit_to_celsius` function above is also included in the `helper_functions.py` file. It's called `celsius_to_fahrenheit` and does the temperature conversion in the other direction."
   ]
  },
  {
   "cell_type": "code",
   "execution_count": null,
   "metadata": {
    "height": 30
   },
   "outputs": [],
   "source": [
    "celsius_to_fahrenheit(20)"
   ]
  },
  {
   "cell_type": "markdown",
   "metadata": {},
   "source": [
    "This code doesn't work because you haven't made the function available to Python yet. Let's ask the chatbot how to do that:"
   ]
  },
  {
   "cell_type": "markdown",
   "metadata": {},
   "source": [
    "<p style=\"background-color:#F5C780; padding:15px\"> 🤖 <b>Use the Chatbot</b>: I have the celsius_to_fahrenheit function in the file helper_functions.py. How do I load it into my Jupyter notebook?</p>"
   ]
  },
  {
   "cell_type": "markdown",
   "metadata": {},
   "source": [
    "Import the `celsius_to_fahrenheit` function from the `helper_functions.py` file:"
   ]
  },
  {
   "cell_type": "code",
   "execution_count": 1,
   "metadata": {},
   "outputs": [
    {
     "name": "stdout",
     "output_type": "stream",
     "text": [
      "Requirement already satisfied: pip in c:\\users\\user\\appdata\\local\\programs\\python\\python311\\lib\\site-packages (25.2)\n",
      "Requirement already satisfied: openai in c:\\users\\user\\appdata\\local\\programs\\python\\python311\\lib\\site-packages (1.109.1)\n",
      "Requirement already satisfied: anyio<5,>=3.5.0 in c:\\users\\user\\appdata\\local\\programs\\python\\python311\\lib\\site-packages (from openai) (4.11.0)\n",
      "Requirement already satisfied: distro<2,>=1.7.0 in c:\\users\\user\\appdata\\local\\programs\\python\\python311\\lib\\site-packages (from openai) (1.9.0)\n",
      "Requirement already satisfied: httpx<1,>=0.23.0 in c:\\users\\user\\appdata\\local\\programs\\python\\python311\\lib\\site-packages (from openai) (0.28.1)\n",
      "Requirement already satisfied: jiter<1,>=0.4.0 in c:\\users\\user\\appdata\\local\\programs\\python\\python311\\lib\\site-packages (from openai) (0.11.0)\n",
      "Requirement already satisfied: pydantic<3,>=1.9.0 in c:\\users\\user\\appdata\\local\\programs\\python\\python311\\lib\\site-packages (from openai) (2.12.1)\n",
      "Requirement already satisfied: sniffio in c:\\users\\user\\appdata\\local\\programs\\python\\python311\\lib\\site-packages (from openai) (1.3.1)\n",
      "Requirement already satisfied: tqdm>4 in c:\\users\\user\\appdata\\local\\programs\\python\\python311\\lib\\site-packages (from openai) (4.66.1)\n",
      "Requirement already satisfied: typing-extensions<5,>=4.11 in c:\\users\\user\\appdata\\local\\programs\\python\\python311\\lib\\site-packages (from openai) (4.15.0)\n",
      "Requirement already satisfied: idna>=2.8 in c:\\users\\user\\appdata\\local\\programs\\python\\python311\\lib\\site-packages (from anyio<5,>=3.5.0->openai) (3.4)\n",
      "Requirement already satisfied: certifi in c:\\users\\user\\appdata\\local\\programs\\python\\python311\\lib\\site-packages (from httpx<1,>=0.23.0->openai) (2022.12.7)\n",
      "Requirement already satisfied: httpcore==1.* in c:\\users\\user\\appdata\\local\\programs\\python\\python311\\lib\\site-packages (from httpx<1,>=0.23.0->openai) (1.0.9)\n",
      "Requirement already satisfied: h11>=0.16 in c:\\users\\user\\appdata\\local\\programs\\python\\python311\\lib\\site-packages (from httpcore==1.*->httpx<1,>=0.23.0->openai) (0.16.0)\n",
      "Requirement already satisfied: annotated-types>=0.6.0 in c:\\users\\user\\appdata\\local\\programs\\python\\python311\\lib\\site-packages (from pydantic<3,>=1.9.0->openai) (0.7.0)\n",
      "Requirement already satisfied: pydantic-core==2.41.3 in c:\\users\\user\\appdata\\local\\programs\\python\\python311\\lib\\site-packages (from pydantic<3,>=1.9.0->openai) (2.41.3)\n",
      "Requirement already satisfied: typing-inspection>=0.4.2 in c:\\users\\user\\appdata\\local\\programs\\python\\python311\\lib\\site-packages (from pydantic<3,>=1.9.0->openai) (0.4.2)\n",
      "Requirement already satisfied: colorama in c:\\users\\user\\appdata\\local\\programs\\python\\python311\\lib\\site-packages (from tqdm>4->openai) (0.4.6)\n",
      "Requirement already satisfied: python-dotenv in c:\\users\\user\\appdata\\local\\programs\\python\\python311\\lib\\site-packages (1.1.1)\n",
      "Requirement already satisfied: aisetup in c:\\users\\user\\appdata\\local\\programs\\python\\python311\\lib\\site-packages (0.1.9)\n",
      "Requirement already satisfied: folium<0.18,>=0.17 in c:\\users\\user\\appdata\\local\\programs\\python\\python311\\lib\\site-packages (from aisetup) (0.17.0)\n",
      "Requirement already satisfied: ipython<9.0,>=8.18 in c:\\users\\user\\appdata\\local\\programs\\python\\python311\\lib\\site-packages (from aisetup) (8.37.0)\n",
      "Requirement already satisfied: ipywidgets<9.0.0,>=8.1.3 in c:\\users\\user\\appdata\\local\\programs\\python\\python311\\lib\\site-packages (from aisetup) (8.1.7)\n",
      "Requirement already satisfied: matplotlib<4.0.0,>=3.9.2 in c:\\users\\user\\appdata\\local\\programs\\python\\python311\\lib\\site-packages (from aisetup) (3.10.7)\n",
      "Requirement already satisfied: openai<2.0,>=1.42 in c:\\users\\user\\appdata\\local\\programs\\python\\python311\\lib\\site-packages (from aisetup) (1.109.1)\n",
      "Requirement already satisfied: pandas<3.0,>=2.2 in c:\\users\\user\\appdata\\local\\programs\\python\\python311\\lib\\site-packages (from aisetup) (2.3.3)\n",
      "Requirement already satisfied: python-dotenv<2.0.0,>=1.0.1 in c:\\users\\user\\appdata\\local\\programs\\python\\python311\\lib\\site-packages (from aisetup) (1.1.1)\n",
      "Requirement already satisfied: requests<3.0.0,>=2.32.3 in c:\\users\\user\\appdata\\local\\programs\\python\\python311\\lib\\site-packages (from aisetup) (2.32.5)\n",
      "Requirement already satisfied: branca>=0.6.0 in c:\\users\\user\\appdata\\local\\programs\\python\\python311\\lib\\site-packages (from folium<0.18,>=0.17->aisetup) (0.8.2)\n",
      "Requirement already satisfied: jinja2>=2.9 in c:\\users\\user\\appdata\\local\\programs\\python\\python311\\lib\\site-packages (from folium<0.18,>=0.17->aisetup) (3.1.2)\n",
      "Requirement already satisfied: numpy in c:\\users\\user\\appdata\\local\\programs\\python\\python311\\lib\\site-packages (from folium<0.18,>=0.17->aisetup) (1.26.0)\n",
      "Requirement already satisfied: xyzservices in c:\\users\\user\\appdata\\local\\programs\\python\\python311\\lib\\site-packages (from folium<0.18,>=0.17->aisetup) (2025.4.0)\n",
      "Requirement already satisfied: colorama in c:\\users\\user\\appdata\\local\\programs\\python\\python311\\lib\\site-packages (from ipython<9.0,>=8.18->aisetup) (0.4.6)\n",
      "Requirement already satisfied: decorator in c:\\users\\user\\appdata\\roaming\\python\\python311\\site-packages (from ipython<9.0,>=8.18->aisetup) (5.2.1)\n",
      "Requirement already satisfied: jedi>=0.16 in c:\\users\\user\\appdata\\roaming\\python\\python311\\site-packages (from ipython<9.0,>=8.18->aisetup) (0.19.2)\n",
      "Requirement already satisfied: matplotlib-inline in c:\\users\\user\\appdata\\roaming\\python\\python311\\site-packages (from ipython<9.0,>=8.18->aisetup) (0.1.7)\n",
      "Requirement already satisfied: prompt_toolkit<3.1.0,>=3.0.41 in c:\\users\\user\\appdata\\roaming\\python\\python311\\site-packages (from ipython<9.0,>=8.18->aisetup) (3.0.52)\n",
      "Requirement already satisfied: pygments>=2.4.0 in c:\\users\\user\\appdata\\roaming\\python\\python311\\site-packages (from ipython<9.0,>=8.18->aisetup) (2.19.2)\n",
      "Requirement already satisfied: stack_data in c:\\users\\user\\appdata\\roaming\\python\\python311\\site-packages (from ipython<9.0,>=8.18->aisetup) (0.6.3)\n",
      "Requirement already satisfied: traitlets>=5.13.0 in c:\\users\\user\\appdata\\roaming\\python\\python311\\site-packages (from ipython<9.0,>=8.18->aisetup) (5.14.3)\n",
      "Requirement already satisfied: typing_extensions>=4.6 in c:\\users\\user\\appdata\\local\\programs\\python\\python311\\lib\\site-packages (from ipython<9.0,>=8.18->aisetup) (4.15.0)\n",
      "Requirement already satisfied: comm>=0.1.3 in c:\\users\\user\\appdata\\roaming\\python\\python311\\site-packages (from ipywidgets<9.0.0,>=8.1.3->aisetup) (0.2.3)\n",
      "Requirement already satisfied: widgetsnbextension~=4.0.14 in c:\\users\\user\\appdata\\local\\programs\\python\\python311\\lib\\site-packages (from ipywidgets<9.0.0,>=8.1.3->aisetup) (4.0.14)\n",
      "Requirement already satisfied: jupyterlab_widgets~=3.0.15 in c:\\users\\user\\appdata\\local\\programs\\python\\python311\\lib\\site-packages (from ipywidgets<9.0.0,>=8.1.3->aisetup) (3.0.15)\n",
      "Requirement already satisfied: contourpy>=1.0.1 in c:\\users\\user\\appdata\\local\\programs\\python\\python311\\lib\\site-packages (from matplotlib<4.0.0,>=3.9.2->aisetup) (1.0.7)\n",
      "Requirement already satisfied: cycler>=0.10 in c:\\users\\user\\appdata\\local\\programs\\python\\python311\\lib\\site-packages (from matplotlib<4.0.0,>=3.9.2->aisetup) (0.11.0)\n",
      "Requirement already satisfied: fonttools>=4.22.0 in c:\\users\\user\\appdata\\local\\programs\\python\\python311\\lib\\site-packages (from matplotlib<4.0.0,>=3.9.2->aisetup) (4.39.3)\n",
      "Requirement already satisfied: kiwisolver>=1.3.1 in c:\\users\\user\\appdata\\local\\programs\\python\\python311\\lib\\site-packages (from matplotlib<4.0.0,>=3.9.2->aisetup) (1.4.4)\n",
      "Requirement already satisfied: packaging>=20.0 in c:\\users\\user\\appdata\\local\\programs\\python\\python311\\lib\\site-packages (from matplotlib<4.0.0,>=3.9.2->aisetup) (23.1)\n",
      "Requirement already satisfied: pillow>=8 in c:\\users\\user\\appdata\\local\\programs\\python\\python311\\lib\\site-packages (from matplotlib<4.0.0,>=3.9.2->aisetup) (9.5.0)\n",
      "Requirement already satisfied: pyparsing>=3 in c:\\users\\user\\appdata\\local\\programs\\python\\python311\\lib\\site-packages (from matplotlib<4.0.0,>=3.9.2->aisetup) (3.0.9)\n",
      "Requirement already satisfied: python-dateutil>=2.7 in c:\\users\\user\\appdata\\local\\programs\\python\\python311\\lib\\site-packages (from matplotlib<4.0.0,>=3.9.2->aisetup) (2.8.2)\n",
      "Requirement already satisfied: anyio<5,>=3.5.0 in c:\\users\\user\\appdata\\local\\programs\\python\\python311\\lib\\site-packages (from openai<2.0,>=1.42->aisetup) (4.11.0)\n",
      "Requirement already satisfied: distro<2,>=1.7.0 in c:\\users\\user\\appdata\\local\\programs\\python\\python311\\lib\\site-packages (from openai<2.0,>=1.42->aisetup) (1.9.0)\n",
      "Requirement already satisfied: httpx<1,>=0.23.0 in c:\\users\\user\\appdata\\local\\programs\\python\\python311\\lib\\site-packages (from openai<2.0,>=1.42->aisetup) (0.28.1)\n",
      "Requirement already satisfied: jiter<1,>=0.4.0 in c:\\users\\user\\appdata\\local\\programs\\python\\python311\\lib\\site-packages (from openai<2.0,>=1.42->aisetup) (0.11.0)\n",
      "Requirement already satisfied: pydantic<3,>=1.9.0 in c:\\users\\user\\appdata\\local\\programs\\python\\python311\\lib\\site-packages (from openai<2.0,>=1.42->aisetup) (2.12.1)\n",
      "Requirement already satisfied: sniffio in c:\\users\\user\\appdata\\local\\programs\\python\\python311\\lib\\site-packages (from openai<2.0,>=1.42->aisetup) (1.3.1)\n",
      "Requirement already satisfied: tqdm>4 in c:\\users\\user\\appdata\\local\\programs\\python\\python311\\lib\\site-packages (from openai<2.0,>=1.42->aisetup) (4.66.1)\n",
      "Requirement already satisfied: idna>=2.8 in c:\\users\\user\\appdata\\local\\programs\\python\\python311\\lib\\site-packages (from anyio<5,>=3.5.0->openai<2.0,>=1.42->aisetup) (3.4)\n",
      "Requirement already satisfied: certifi in c:\\users\\user\\appdata\\local\\programs\\python\\python311\\lib\\site-packages (from httpx<1,>=0.23.0->openai<2.0,>=1.42->aisetup) (2022.12.7)\n",
      "Requirement already satisfied: httpcore==1.* in c:\\users\\user\\appdata\\local\\programs\\python\\python311\\lib\\site-packages (from httpx<1,>=0.23.0->openai<2.0,>=1.42->aisetup) (1.0.9)\n",
      "Requirement already satisfied: h11>=0.16 in c:\\users\\user\\appdata\\local\\programs\\python\\python311\\lib\\site-packages (from httpcore==1.*->httpx<1,>=0.23.0->openai<2.0,>=1.42->aisetup) (0.16.0)\n",
      "Requirement already satisfied: pytz>=2020.1 in c:\\users\\user\\appdata\\local\\programs\\python\\python311\\lib\\site-packages (from pandas<3.0,>=2.2->aisetup) (2023.3)\n",
      "Requirement already satisfied: tzdata>=2022.7 in c:\\users\\user\\appdata\\local\\programs\\python\\python311\\lib\\site-packages (from pandas<3.0,>=2.2->aisetup) (2023.3)\n",
      "Requirement already satisfied: wcwidth in c:\\users\\user\\appdata\\roaming\\python\\python311\\site-packages (from prompt_toolkit<3.1.0,>=3.0.41->ipython<9.0,>=8.18->aisetup) (0.2.14)\n",
      "Requirement already satisfied: annotated-types>=0.6.0 in c:\\users\\user\\appdata\\local\\programs\\python\\python311\\lib\\site-packages (from pydantic<3,>=1.9.0->openai<2.0,>=1.42->aisetup) (0.7.0)\n",
      "Requirement already satisfied: pydantic-core==2.41.3 in c:\\users\\user\\appdata\\local\\programs\\python\\python311\\lib\\site-packages (from pydantic<3,>=1.9.0->openai<2.0,>=1.42->aisetup) (2.41.3)\n",
      "Requirement already satisfied: typing-inspection>=0.4.2 in c:\\users\\user\\appdata\\local\\programs\\python\\python311\\lib\\site-packages (from pydantic<3,>=1.9.0->openai<2.0,>=1.42->aisetup) (0.4.2)\n",
      "Requirement already satisfied: charset_normalizer<4,>=2 in c:\\users\\user\\appdata\\local\\programs\\python\\python311\\lib\\site-packages (from requests<3.0.0,>=2.32.3->aisetup) (3.0.1)\n",
      "Requirement already satisfied: urllib3<3,>=1.21.1 in c:\\users\\user\\appdata\\local\\programs\\python\\python311\\lib\\site-packages (from requests<3.0.0,>=2.32.3->aisetup) (1.26.14)\n",
      "Requirement already satisfied: parso<0.9.0,>=0.8.4 in c:\\users\\user\\appdata\\roaming\\python\\python311\\site-packages (from jedi>=0.16->ipython<9.0,>=8.18->aisetup) (0.8.5)\n",
      "Requirement already satisfied: MarkupSafe>=2.0 in c:\\users\\user\\appdata\\local\\programs\\python\\python311\\lib\\site-packages (from jinja2>=2.9->folium<0.18,>=0.17->aisetup) (2.1.3)\n",
      "Requirement already satisfied: six>=1.5 in c:\\users\\user\\appdata\\local\\programs\\python\\python311\\lib\\site-packages (from python-dateutil>=2.7->matplotlib<4.0.0,>=3.9.2->aisetup) (1.16.0)\n",
      "Requirement already satisfied: executing>=1.2.0 in c:\\users\\user\\appdata\\roaming\\python\\python311\\site-packages (from stack_data->ipython<9.0,>=8.18->aisetup) (2.2.1)\n",
      "Requirement already satisfied: asttokens>=2.1.0 in c:\\users\\user\\appdata\\roaming\\python\\python311\\site-packages (from stack_data->ipython<9.0,>=8.18->aisetup) (3.0.0)\n",
      "Requirement already satisfied: pure-eval in c:\\users\\user\\appdata\\roaming\\python\\python311\\site-packages (from stack_data->ipython<9.0,>=8.18->aisetup) (0.2.3)\n"
     ]
    }
   ],
   "source": [
    "# from helper_functions import print_llm_response, get_llm_response\n",
    "!python.exe -m pip install --upgrade pip\n",
    "!pip install openai\n",
    "!pip install python-dotenv\n",
    "!pip install aisetup"
   ]
  },
  {
   "cell_type": "code",
   "execution_count": 2,
   "metadata": {
    "height": 30
   },
   "outputs": [],
   "source": [
    "from aisetup import celsius_to_fahrenheit"
   ]
  },
  {
   "cell_type": "markdown",
   "metadata": {},
   "source": [
    "You can now use the function!"
   ]
  },
  {
   "cell_type": "code",
   "execution_count": 3,
   "metadata": {
    "height": 30
   },
   "outputs": [
    {
     "name": "stdout",
     "output_type": "stream",
     "text": [
      "20°C is equivalent to 68.00°F\n"
     ]
    }
   ],
   "source": [
    "celsius_to_fahrenheit(20)"
   ]
  },
  {
   "cell_type": "markdown",
   "metadata": {},
   "source": [
    "## Different ways to import functions from a file"
   ]
  },
  {
   "cell_type": "markdown",
   "metadata": {},
   "source": [
    "Python has a few different ways to import functions from a file. Run the code below to import all functions in a file:"
   ]
  },
  {
   "cell_type": "code",
   "execution_count": null,
   "metadata": {
    "height": 30
   },
   "outputs": [],
   "source": [
    "import helper_functions"
   ]
  },
  {
   "cell_type": "markdown",
   "metadata": {},
   "source": [
    "To use this, you must five the name of the file *and* the name of the function, separated by a `.` character:"
   ]
  },
  {
   "cell_type": "code",
   "execution_count": null,
   "metadata": {
    "height": 30
   },
   "outputs": [],
   "source": [
    "helper_functions.print_llm_response(\"What is the capital of France?\")"
   ]
  },
  {
   "cell_type": "markdown",
   "metadata": {},
   "source": [
    "Note that you must include the `.` for this to work. For example, if you want to use `get_llm_response` - which is also defined in `helper_functions.py` - and you try the following code, it won't work:"
   ]
  },
  {
   "cell_type": "markdown",
   "metadata": {},
   "source": [
    "* 🚨 Alert: running the next cell will return an error!"
   ]
  },
  {
   "cell_type": "code",
   "execution_count": null,
   "metadata": {
    "height": 30
   },
   "outputs": [],
   "source": [
    "response = get_llm_response(\"What is the capital of France?\")"
   ]
  },
  {
   "cell_type": "markdown",
   "metadata": {},
   "source": [
    "To fix this, you must include the file name and the `.` character as with `print_llm_above`:"
   ]
  },
  {
   "cell_type": "code",
   "execution_count": null,
   "metadata": {
    "height": 64
   },
   "outputs": [],
   "source": [
    "response = helper_functions.get_llm_response(\"What is the capital of France?\")\n",
    "print(response)"
   ]
  },
  {
   "cell_type": "markdown",
   "metadata": {},
   "source": [
    "There is another way to import all of the functions in a file that avoids the `.` notation above. You can use a `*` character and the following command:"
   ]
  },
  {
   "cell_type": "code",
   "execution_count": null,
   "metadata": {
    "height": 30
   },
   "outputs": [],
   "source": [
    "from helper_functions import *"
   ]
  },
  {
   "cell_type": "markdown",
   "metadata": {},
   "source": [
    "This imports all the functions in a file and makes them available without `.` notation."
   ]
  },
  {
   "cell_type": "code",
   "execution_count": null,
   "metadata": {
    "height": 64
   },
   "outputs": [],
   "source": [
    "# Try again\n",
    "response = get_llm_response(\"Give me three tips to become a good learner.\")"
   ]
  },
  {
   "cell_type": "code",
   "execution_count": null,
   "metadata": {
    "height": 47
   },
   "outputs": [],
   "source": [
    "# It worked!\n",
    "print(response)"
   ]
  },
  {
   "cell_type": "markdown",
   "metadata": {},
   "source": [
    "**Note:** Using the `from file import *` notation can cause unexpected results in some cases. \n",
    "\n",
    "Instead, it is recommended to only load what you need (e.g. `from helper_functions import print_llm_response`), or to import that whole file and use the `.` notation. "
   ]
  }
 ],
 "metadata": {
  "colab": {
   "gpuType": "T4",
   "provenance": []
  },
  "kernelspec": {
   "display_name": "Python 3",
   "language": "python",
   "name": "python3"
  },
  "language_info": {
   "codemirror_mode": {
    "name": "ipython",
    "version": 3
   },
   "file_extension": ".py",
   "mimetype": "text/x-python",
   "name": "python",
   "nbconvert_exporter": "python",
   "pygments_lexer": "ipython3",
   "version": "3.11.2"
  }
 },
 "nbformat": 4,
 "nbformat_minor": 4
}
